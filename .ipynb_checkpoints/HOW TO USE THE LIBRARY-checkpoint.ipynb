{
 "cells": [
  {
   "cell_type": "markdown",
   "metadata": {},
   "source": [
    "Within the library the required packages for the code to run correctly are imported.\n",
    "\n",
    "If there's an import error check the following things:\n",
    "\n",
    "1. Check *pandas* is isntalled.\n",
    "2. Check *fcs parser* is installed.\n",
    "3. Check *OS* is installed.\n",
    "\n",
    "Once you've checked this run this code in 4 simple steps:"
   ]
  },
  {
   "cell_type": "markdown",
   "metadata": {},
   "source": [
    "# 1. import the *cytometry_lib* library."
   ]
  },
  {
   "cell_type": "code",
   "execution_count": null,
   "metadata": {},
   "outputs": [],
   "source": [
    "import cytometry_lib as cy"
   ]
  },
  {
   "cell_type": "markdown",
   "metadata": {},
   "source": [
    "Make sure in the following cell that the directories are correct. \n",
    "Only the fcs must exist and have fcs data on it as the other two will be created in the process. \n",
    "The directory path syntaxis varies between OS\n",
    "\n",
    "# 2. Save directory locations."
   ]
  },
  {
   "cell_type": "code",
   "execution_count": null,
   "metadata": {},
   "outputs": [],
   "source": [
    "fcs_dir = './fcs sample data/'      # This is the directory of the .fcs files in this case  \n",
    "csv_dir = 'csv_files/'               # This is where the converted data will be stored\n",
    "merged_csv_dir = 'merged_data/'      # This is where the final merged dataframe will be stored\n",
    "merged_filename = 'data'            # This  is  the name "
   ]
  },
  {
   "cell_type": "markdown",
   "metadata": {},
   "source": [
    "The next line of code converts fcs files in the fcs directory to csv files in the csv directory.\n",
    "\n",
    "# 3. Convert fcs files to csv files."
   ]
  },
  {
   "cell_type": "code",
   "execution_count": null,
   "metadata": {},
   "outputs": [],
   "source": [
    "cy.fcs_to_csv(fcs_dir,csv_dir)"
   ]
  },
  {
   "cell_type": "markdown",
   "metadata": {},
   "source": [
    "The next line of code takes the csv files, merges them into a single dataframe and saves it in the specified directory.\n",
    "\n",
    "# 4. Merge the data into the same dataframe."
   ]
  },
  {
   "cell_type": "code",
   "execution_count": null,
   "metadata": {},
   "outputs": [],
   "source": [
    "cy.merge_dfs(csv_dir,merged_csv_dir,merged_filename)"
   ]
  }
 ],
 "metadata": {
  "kernelspec": {
   "display_name": "Python 3",
   "language": "python",
   "name": "python3"
  },
  "language_info": {
   "codemirror_mode": {
    "name": "ipython",
    "version": 3
   },
   "file_extension": ".py",
   "mimetype": "text/x-python",
   "name": "python",
   "nbconvert_exporter": "python",
   "pygments_lexer": "ipython3",
   "version": "3.5.5"
  }
 },
 "nbformat": 4,
 "nbformat_minor": 2
}
