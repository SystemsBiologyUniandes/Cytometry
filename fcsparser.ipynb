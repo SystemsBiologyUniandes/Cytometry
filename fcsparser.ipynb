{
 "cells": [
  {
   "cell_type": "code",
   "execution_count": 20,
   "metadata": {
    "collapsed": false,
    "nbpresent": {
     "id": "22d1eeb9-e958-4901-b27c-e16ecaff8bbe"
    }
   },
   "outputs": [],
   "source": [
    "import fcsparser\n",
    "import pandas as pd\n",
    "import os\n",
    "from glob import glob \n",
    "import numpy as np"
   ]
  },
  {
   "cell_type": "code",
   "execution_count": 23,
   "metadata": {
    "collapsed": false,
    "nbpresent": {
     "id": "9d325c40-a122-4742-adcc-e83b62864c7e"
    },
    "scrolled": true
   },
   "outputs": [],
   "source": [
    "fcs_folder = './fcs/'\n",
    "fcs_pat = '.fcs'\n",
    "csv_folder = './csv_data/Raw_csv'\n",
    "\n",
    "if not os.path.exists(csv_folder):\n",
    "    os.makedirs(csv_folder)\n",
    "\n",
    "def filterFiles(path, extension):\n",
    "    '''\n",
    "    Equivalent to:\n",
    "    Files = []\n",
    "    for root, dirs, files in os.walk(path):\n",
    "        for file in files:\n",
    "            if file.endswith(extension):\n",
    "                Files.append(file)\n",
    "    '''\n",
    "    files = [file for root, dirs, files in os.walk(path) for file in files if file.endswith(extension)]\n",
    "    for i in files:\n",
    "        print(i)\n",
    "    return files"
   ]
  },
  {
   "cell_type": "code",
   "execution_count": 24,
   "metadata": {
    "collapsed": false,
    "nbpresent": {
     "id": "f06878e4-227d-4f4b-ba99-1f243d1db3a0"
    }
   },
   "outputs": [
    {
     "name": "stdout",
     "output_type": "stream",
     "text": [
      "F04 17Sep-OD0_107-V10uLSlow.fcs\n",
      "F09 17Sep-OD0_284-V10uLSlow.fcs\n",
      "D11 17Sep-OD0_382-V10uLFast.fcs\n",
      "H12.fcs\n",
      "C04 17Sep-OD0_107-V5uLFast.fcs\n",
      "C11 17Sep-OD0_382-V5uLFast.fcs\n",
      "E03 17Sep-OD0_077-V5uLSlow.fcs\n",
      "A06 OD=0.114.fcs\n",
      "D03 17Sep-OD0_077-V10uLFast.fcs\n",
      "E11 17Sep-OD0_382-V5uLSlow.fcs\n",
      "E10 17Sep-OD0_320-V5uLSlow.fcs\n",
      "C05 17Sep-OD0_143-V5uLFast.fcs\n",
      "F03 17Sep-OD0_077-V10uLSlow.fcs\n",
      "C06 17Sep-OD0_171-V5uLFast.fcs\n",
      "F10 17Sep-OD0_320-V10uLSlow.fcs\n",
      "C03 17Sep-OD0_077-V5uLFast.fcs\n",
      "A10 OD=0.218.fcs\n",
      "A01 OD=0.028.fcs\n",
      "D04 17Sep-OD0_107-V10uLFast.fcs\n",
      "F11 17Sep-OD0_382-V10uLSlow.fcs\n",
      "E09 17Sep-OD0_284-V5uLSlow.fcs\n",
      "H11 H20After.fcs\n",
      "D06 17Sep-OD0_171-V10uLFast.fcs\n",
      "A11 OD=0.261.fcs\n",
      "D08 17Sep-OD0_235-V10uLFast.fcs\n",
      "E07 17Sep-OD0_198-V5uLSlow.fcs\n",
      "D01 17Sep-OD0_024-V10uL.fcs\n",
      "F02 17Sep-OD0_045-V10uLSlow.fcs\n",
      "A08 OD=0.153.fcs\n",
      "D05 17Sep-OD0_143-V10uLFast.fcs\n",
      "F06 17Sep-OD0_171-V10uLSlow.fcs\n",
      "F08 17Sep-OD0_235-V10uLSlow.fcs\n",
      "C08 17Sep-OD0_235-V5uLFast.fcs\n",
      "F07 17Sep-OD0_198-V10uLSlow.fcs\n",
      "C09 17Sep-OD0_284-V5uLFast.fcs\n",
      "C02 17Sep-OD0_045-V5uLFast.fcs\n",
      "F05 17Sep-OD0_143-V10uLSlow.fcs\n",
      "A02 OD=0.055.fcs\n",
      "E02 17Sep-OD0_045-V5uLSlow.fcs\n",
      "A03 OD=0.054OJO.fcs\n",
      "A04 OD=0.066.fcs\n",
      "C01 17Sep-OD0_024-V5uL.fcs\n",
      "A09 OD=0.175.fcs\n",
      "A07 OD=0.129.fcs\n",
      "D09 17Sep-OD0_284-V10uLFast.fcs\n",
      "E08 17Sep-OD0_235-V5uLSlow.fcs\n",
      "E05 17Sep-OD0_143-V5uLSlow.fcs\n",
      "D07 17Sep-OD0_198-V10uLFast.fcs\n",
      "D02 17Sep-OD0_045-V10uLFast.fcs\n",
      "C07 17Sep-OD0_198-V5uLFast.fcs\n",
      "E04 17Sep-OD0_107-V5uLSlow.fcs\n",
      "A05 OD=0.088.fcs\n",
      "H10.fcs\n",
      "C10 17Sep-OD0_320-V5uLFast.fcs\n",
      "D10 17Sep-OD0_320-V10uLFast.fcs\n",
      "H09 agua.fcs\n",
      "E06 17Sep-OD0_171-V5uLSlow.fcs\n"
     ]
    }
   ],
   "source": [
    "files = filterFiles(fcs_folder, fcs_pat)"
   ]
  },
  {
   "cell_type": "code",
   "execution_count": 25,
   "metadata": {
    "collapsed": false,
    "nbpresent": {
     "id": "dd46948d-d589-4aa6-aa02-237a729db95c"
    }
   },
   "outputs": [],
   "source": [
    "for i in files:\n",
    "    path = fcs_folder + i\n",
    "    meta, data = fcsparser.parse(path, meta_data_only=False, reformat_meta=True)\n",
    "    data.columns=['FSC-A','SSC-A','FL1-A','FL2-A','FL3-A','FL4-A','FSC-H','SSC-H','FL1-H','FL2-H','FL3-H','FL4-H','Width','Time']\n",
    "    data.to_csv(csv_folder +'/'+ i[:-3]+'csv',index=False)"
   ]
  },
  {
   "cell_type": "code",
   "execution_count": 65,
   "metadata": {
    "collapsed": false,
    "nbpresent": {
     "id": "60b63da2-4a12-4a11-8f79-2abf56443728"
    },
    "scrolled": true
   },
   "outputs": [
    {
     "name": "stdout",
     "output_type": "stream",
     "text": [
      "D06 17Sep-OD0_171-V10uLFast.csv\n",
      "C01 17Sep-OD0_024-V5uL.csv\n",
      "C05 17Sep-OD0_143-V5uLFast.csv\n",
      "C11 17Sep-OD0_382-V5uLFast.csv\n",
      "E03 17Sep-OD0_077-V5uLSlow.csv\n",
      "E07 17Sep-OD0_198-V5uLSlow.csv\n",
      "F07 17Sep-OD0_198-V10uLSlow.csv\n",
      "E02 17Sep-OD0_045-V5uLSlow.csv\n",
      "F05 17Sep-OD0_143-V10uLSlow.csv\n",
      "F04 17Sep-OD0_107-V10uLSlow.csv\n",
      "D11 17Sep-OD0_382-V10uLFast.csv\n",
      "A05 OD=0.088.csv\n",
      "D01 17Sep-OD0_024-V10uL.csv\n",
      "C03 17Sep-OD0_077-V5uLFast.csv\n",
      "A10 OD=0.218.csv\n",
      "E11 17Sep-OD0_382-V5uLSlow.csv\n",
      "E05 17Sep-OD0_143-V5uLSlow.csv\n",
      "C04 17Sep-OD0_107-V5uLFast.csv\n",
      "F11 17Sep-OD0_382-V10uLSlow.csv\n",
      "E09 17Sep-OD0_284-V5uLSlow.csv\n",
      "A08 OD=0.153.csv\n",
      "H09 agua.csv\n",
      "D04 17Sep-OD0_107-V10uLFast.csv\n",
      "E04 17Sep-OD0_107-V5uLSlow.csv\n",
      "A01 OD=0.028.csv\n",
      "F10 17Sep-OD0_320-V10uLSlow.csv\n",
      "C02 17Sep-OD0_045-V5uLFast.csv\n",
      "H10.csv\n",
      "A03 OD=0.054OJO.csv\n",
      "F02 17Sep-OD0_045-V10uLSlow.csv\n",
      "A02 OD=0.055.csv\n",
      "D02 17Sep-OD0_045-V10uLFast.csv\n",
      "D09 17Sep-OD0_284-V10uLFast.csv\n",
      "F08 17Sep-OD0_235-V10uLSlow.csv\n",
      "H11 H20After.csv\n",
      "E08 17Sep-OD0_235-V5uLSlow.csv\n",
      "F06 17Sep-OD0_171-V10uLSlow.csv\n",
      "D08 17Sep-OD0_235-V10uLFast.csv\n",
      "A07 OD=0.129.csv\n",
      "E10 17Sep-OD0_320-V5uLSlow.csv\n",
      "C07 17Sep-OD0_198-V5uLFast.csv\n",
      "C06 17Sep-OD0_171-V5uLFast.csv\n",
      "E06 17Sep-OD0_171-V5uLSlow.csv\n",
      "D10 17Sep-OD0_320-V10uLFast.csv\n",
      "A11 OD=0.261.csv\n",
      "D03 17Sep-OD0_077-V10uLFast.csv\n",
      "D07 17Sep-OD0_198-V10uLFast.csv\n",
      "H12.csv\n",
      "C09 17Sep-OD0_284-V5uLFast.csv\n",
      "F09 17Sep-OD0_284-V10uLSlow.csv\n",
      "A06 OD=0.114.csv\n",
      "F03 17Sep-OD0_077-V10uLSlow.csv\n",
      "D05 17Sep-OD0_143-V10uLFast.csv\n",
      "C10 17Sep-OD0_320-V5uLFast.csv\n",
      "A09 OD=0.175.csv\n",
      "A04 OD=0.066.csv\n",
      "C08 17Sep-OD0_235-V5uLFast.csv\n"
     ]
    }
   ],
   "source": [
    "files_csv = filterFiles(csv_folder, '.csv')"
   ]
  },
  {
   "cell_type": "code",
   "execution_count": 66,
   "metadata": {
    "collapsed": false,
    "nbpresent": {
     "id": "6aa767ed-9fff-47ae-a188-3f09a31f1547"
    },
    "scrolled": false
   },
   "outputs": [
    {
     "name": "stdout",
     "output_type": "stream",
     "text": [
      "File 1 out of 57 Done\n",
      "File 2 out of 57 Done\n",
      "File 3 out of 57 Done\n",
      "File 4 out of 57 Done\n",
      "File 5 out of 57 Done\n",
      "File 6 out of 57 Done\n",
      "File 7 out of 57 Done\n",
      "File 8 out of 57 Done\n",
      "File 9 out of 57 Done\n",
      "File 10 out of 57 Done\n",
      "File 11 out of 57 Done\n",
      "File 12 out of 57 Done\n",
      "File 13 out of 57 Done\n",
      "File 14 out of 57 Done\n",
      "File 15 out of 57 Done\n",
      "File 16 out of 57 Done\n",
      "File 17 out of 57 Done\n",
      "File 18 out of 57 Done\n",
      "File 19 out of 57 Done\n",
      "File 20 out of 57 Done\n",
      "File 21 out of 57 Done\n",
      "File 22 out of 57 Done\n",
      "File 23 out of 57 Done\n",
      "File 24 out of 57 Done\n",
      "File 25 out of 57 Done\n",
      "File 26 out of 57 Done\n",
      "File 27 out of 57 Done\n",
      "File 28 out of 57 Done\n",
      "File 29 out of 57 Done\n",
      "File 30 out of 57 Done\n",
      "File 31 out of 57 Done\n",
      "File 32 out of 57 Done\n",
      "File 33 out of 57 Done\n",
      "File 34 out of 57 Done\n",
      "File 35 out of 57 Done\n",
      "File 36 out of 57 Done\n",
      "File 37 out of 57 Done\n",
      "File 38 out of 57 Done\n",
      "File 39 out of 57 Done\n",
      "File 40 out of 57 Done\n",
      "File 41 out of 57 Done\n",
      "File 42 out of 57 Done\n",
      "File 43 out of 57 Done\n",
      "File 44 out of 57 Done\n",
      "File 45 out of 57 Done\n",
      "File 46 out of 57 Done\n",
      "File 47 out of 57 Done\n",
      "File 48 out of 57 Done\n",
      "File 49 out of 57 Done\n",
      "File 50 out of 57 Done\n",
      "File 51 out of 57 Done\n",
      "File 52 out of 57 Done\n",
      "File 53 out of 57 Done\n",
      "File 54 out of 57 Done\n",
      "File 55 out of 57 Done\n",
      "File 56 out of 57 Done\n",
      "File 57 out of 57 Done\n"
     ]
    }
   ],
   "source": [
    "#defines dir\n",
    "csv_save = './csv_data/Corrected_csv/'\n",
    "#creates dir\n",
    "if not os.path.exists(csv_save):\n",
    "    os.makedirs(csv_save)\n",
    "    \n",
    "#create stats df\n",
    "columns = ['label', 'mFSC-H', 'stdFSC-H', 'mFL3-A', 'stdFL3-A']\n",
    "index = [i for i in range(len(files))]\n",
    "stats_df = pd.DataFrame(columns=columns, index = index)\n",
    "#for each csv file\n",
    "for j in range(len(files_csv)):\n",
    "    #creates a dataframe\n",
    "    df = pd.read_csv(csv_folder+'/'+ files_csv[j])\n",
    "    ind = []\n",
    "    #for each line of the dataFrame\n",
    "    for i in range(len(df)):\n",
    "        #Apply the filter and stores the indices\n",
    "        if df['SSC-A'][i] == 0 or df['FL3-A'][i] < 800 or df['FSC-H'][i] < 11000:\n",
    "            ind.append(i)\n",
    "    #drop the lines corresponding to the indices and reset indices\n",
    "    df = df.drop(df.index[ind])\n",
    "    df = df.reset_index(drop=True)\n",
    "    #the name of the new DataFrame is the first three letters (cell label)\n",
    "    df['name'] = files_csv[j][0:3]\n",
    "    #Make statistics and creates a column with the results (this is redundant)\n",
    "    sigmasqH = np.std(df['FSC-H'].tolist())\n",
    "    promH = np.mean(df['FSC-H'].tolist())\n",
    "    fanofact =sigmasqH/promH\n",
    "    df['cvFSC-H'] = fanofact\n",
    "    df['mFSC-H'] = promH\n",
    "    sigmasq3 = np.std(df['FL3-A'].tolist())\n",
    "    prom3 = np.mean(df['FL3-A'].tolist())\n",
    "    fanofact =sigmasq3/prom3\n",
    "    df['cvFL3-A'] = fanofact\n",
    "    df['mFL3-A'] = prom3\n",
    "    #Save the csv with the filter and statistics\n",
    "    df.to_csv(csv_save  +files_csv[j][0:3]+'.csv',index=False)\n",
    "    print('File ' + str(j+1) + ' out of ' + str(len(files_csv)) + ' Done')    \n",
    "    stats_df.loc[j] = [files_csv[j][0:3], promH, sigmasqH, prom3, sigmasq3]"
   ]
  },
  {
   "cell_type": "code",
   "execution_count": 94,
   "metadata": {
    "collapsed": false,
    "scrolled": true
   },
   "outputs": [],
   "source": [
    "#Statistics saved in statistics.csv\n",
    "stats_df = stats_df.sort_values('label')\n",
    "stats_df = stats_df.reset_index(drop=True)\n",
    "csv_stats_dir = './csv_data/Statistics_csv/'\n",
    "if not os.path.exists(csv_stats_dir):\n",
    "    os.makedirs(csv_stats_dir)\n",
    "stats_df.to_csv(csv_stats_dir + 'statistics'+'.csv', index = False)"
   ]
  },
  {
   "cell_type": "code",
   "execution_count": 19,
   "metadata": {
    "collapsed": false
   },
   "outputs": [],
   "source": [
    "csv_folder = './csv_data/Corrected_csv/'\n",
    "files = filterFiles(csv_folder, '.csv')\n",
    "\n",
    "df = pd.read_csv(csv_folder + files[0])\n",
    "for i in files[1:]:\n",
    "    df1 = pd.read_csv(csv_folder + i)\n",
    "    df = df.append(df1)\n",
    "    \n",
    "csv_folder_final = './csv_data/Merged/'\n",
    "if not os.path.exists(csv_folder_final):\n",
    "    os.makedirs(csv_folder_final)\n",
    "df.to_csv(csv_folder_final +'mergedData'+'.csv',index=False)"
   ]
  }
 ],
 "metadata": {
  "anaconda-cloud": {},
  "kernelspec": {
   "display_name": "Python [Root]",
   "language": "python",
   "name": "Python [Root]"
  },
  "language_info": {
   "codemirror_mode": {
    "name": "ipython",
    "version": 3
   },
   "file_extension": ".py",
   "mimetype": "text/x-python",
   "name": "python",
   "nbconvert_exporter": "python",
   "pygments_lexer": "ipython3",
   "version": "3.5.2"
  },
  "nbpresent": {
   "slides": {},
   "themes": {
    "default": "19df1795-3f24-4aeb-a040-75472f441ea2",
    "theme": {
     "19df1795-3f24-4aeb-a040-75472f441ea2": {
      "id": "19df1795-3f24-4aeb-a040-75472f441ea2",
      "palette": {
       "19cc588f-0593-49c9-9f4b-e4d7cc113b1c": {
        "id": "19cc588f-0593-49c9-9f4b-e4d7cc113b1c",
        "rgb": [
         252,
         252,
         252
        ]
       },
       "31af15d2-7e15-44c5-ab5e-e04b16a89eff": {
        "id": "31af15d2-7e15-44c5-ab5e-e04b16a89eff",
        "rgb": [
         68,
         68,
         68
        ]
       },
       "50f92c45-a630-455b-aec3-788680ec7410": {
        "id": "50f92c45-a630-455b-aec3-788680ec7410",
        "rgb": [
         155,
         177,
         192
        ]
       },
       "c5cc3653-2ee1-402a-aba2-7caae1da4f6c": {
        "id": "c5cc3653-2ee1-402a-aba2-7caae1da4f6c",
        "rgb": [
         43,
         126,
         184
        ]
       },
       "efa7f048-9acb-414c-8b04-a26811511a21": {
        "id": "efa7f048-9acb-414c-8b04-a26811511a21",
        "rgb": [
         25.118061674008803,
         73.60176211453744,
         107.4819383259912
        ]
       }
      },
      "rules": {
       "blockquote": {
        "color": "50f92c45-a630-455b-aec3-788680ec7410"
       },
       "code": {
        "font-family": "Anonymous Pro"
       },
       "h1": {
        "color": "c5cc3653-2ee1-402a-aba2-7caae1da4f6c",
        "font-family": "Lato",
        "font-size": 8
       },
       "h2": {
        "color": "c5cc3653-2ee1-402a-aba2-7caae1da4f6c",
        "font-family": "Lato",
        "font-size": 6
       },
       "h3": {
        "color": "50f92c45-a630-455b-aec3-788680ec7410",
        "font-family": "Lato",
        "font-size": 5.5
       },
       "h4": {
        "color": "c5cc3653-2ee1-402a-aba2-7caae1da4f6c",
        "font-family": "Lato",
        "font-size": 5
       },
       "h5": {
        "font-family": "Lato"
       },
       "h6": {
        "font-family": "Lato"
       },
       "h7": {
        "font-family": "Lato"
       },
       "pre": {
        "font-family": "Anonymous Pro",
        "font-size": 4
       }
      },
      "text-base": {
       "font-family": "Merriweather",
       "font-size": 4
      }
     }
    }
   }
  }
 },
 "nbformat": 4,
 "nbformat_minor": 0
}
