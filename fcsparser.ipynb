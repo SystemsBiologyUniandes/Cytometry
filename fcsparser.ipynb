{
 "cells": [
  {
   "cell_type": "code",
   "execution_count": null,
   "metadata": {
    "collapsed": false,
    "nbpresent": {
     "id": "22d1eeb9-e958-4901-b27c-e16ecaff8bbe"
    }
   },
   "outputs": [],
   "source": [
    "import fcsparser\n",
    "import numpy as np\n",
    "import os\n",
    "import pandas as pd"
   ]
  },
  {
   "cell_type": "code",
   "execution_count": null,
   "metadata": {
    "collapsed": false,
    "nbpresent": {
     "id": "9d325c40-a122-4742-adcc-e83b62864c7e"
    },
    "scrolled": true
   },
   "outputs": [],
   "source": [
    "def make_dir(path):\n",
    "    '''Creates the directory path'''\n",
    "    if not os.path.exists(path):\n",
    "        os.makedirs(path)\n",
    "    \n",
    "def filterFiles(path, extension):\n",
    "    '''\n",
    "    Equivalent to:\n",
    "    Files = []\n",
    "    for root, dirs, files in os.walk(path):\n",
    "        for file in files:\n",
    "            if file.endswith(extension):\n",
    "                Files.append(file)\n",
    "    '''\n",
    "    files = [file for root, dirs, files in os.walk(path) for file in files if file.endswith(extension)]\n",
    "    for i in files:\n",
    "        print(i)\n",
    "    return files\n",
    "\n",
    "def fcs_to_csv(directory):\n",
    "    '''\n",
    "    Creates and saves the csv files associated with each file in files\n",
    "    files: list of filenames\n",
    "    '''\n",
    "    for i in files:\n",
    "        path = fcs_folder + i\n",
    "        meta, data = fcsparser.parse(path, meta_data_only=False, reformat_meta=True)\n",
    "        data.columns=['FSC-A','SSC-A','FL1-A','FL2-A','FL3-A','FL4-A','FSC-H','SSC-H','FL1-H','FL2-H','FL3-H','FL4-H','Width','Time']\n",
    "        data.to_csv(csv_folder +'/'+ i[:-3]+'csv',index=False)"
   ]
  },
  {
   "cell_type": "code",
   "execution_count": null,
   "metadata": {
    "collapsed": false,
    "nbpresent": {
     "id": "f06878e4-227d-4f4b-ba99-1f243d1db3a0"
    }
   },
   "outputs": [],
   "source": [
    "fcs_folder = './fcs/'\n",
    "fcs_ext = '.fcs'\n",
    "csv_folder = './csv_data/Raw_csv'\n",
    "\n",
    "make_dir(csv_folder)\n",
    "files = filterFiles(fcs_folder, fcs_ext)"
   ]
  },
  {
   "cell_type": "code",
   "execution_count": null,
   "metadata": {
    "collapsed": false,
    "nbpresent": {
     "id": "dd46948d-d589-4aa6-aa02-237a729db95c"
    }
   },
   "outputs": [],
   "source": [
    "fcs_to_csv(csv_folder)\n",
    "files_csv = filterFiles(csv_folder, '.csv')"
   ]
  },
  {
   "cell_type": "code",
   "execution_count": null,
   "metadata": {
    "collapsed": false,
    "nbpresent": {
     "id": "6aa767ed-9fff-47ae-a188-3f09a31f1547"
    },
    "scrolled": false
   },
   "outputs": [],
   "source": [
    "#defines dir\n",
    "csv_correc = './csv_data/Corrected_csv/'\n",
    "\n",
    "#creates dir\n",
    "make_dir(csv_correc)\n",
    "    \n",
    "#create stats df\n",
    "columns = ['label', 'mFSC-H', 'stdFSC-H', 'mFL3-A', 'stdFL3-A']\n",
    "index = [i for i in range(len(files))]\n",
    "stats_df = pd.DataFrame(columns=columns, index = index)\n",
    "\n",
    "#for each csv file\n",
    "for j in range(len(files_csv)):\n",
    "    \n",
    "    #creates a dataframe\n",
    "    df = pd.read_csv(csv_folder+'/'+ files_csv[j])\n",
    "    ind = []\n",
    "    \n",
    "    #for each line of the dataFrame\n",
    "    for i in range(len(df)):\n",
    "        \n",
    "        #Apply the filter and stores the indices\n",
    "        if df['SSC-A'][i] == 0 or df['FL3-A'][i] < 800 or df['FSC-H'][i] < 11000:\n",
    "            ind.append(i)\n",
    "            \n",
    "    #drop the lines corresponding to the indices and reset indices\n",
    "    df = df.drop(df.index[ind])\n",
    "    df = df.reset_index(drop=True)\n",
    "    \n",
    "    #the name of the new DataFrame consists of the first three letters (cell label)\n",
    "    df['name'] = files_csv[j][0:3]\n",
    "    \n",
    "    #Makes statistics and creates a column with the results\n",
    "    sigmasqH = np.std(df['FSC-H'].tolist())\n",
    "    promH = np.mean(df['FSC-H'].tolist())\n",
    "    fanofact =sigmasqH/promH\n",
    "    df['cvFSC-H'] = fanofact\n",
    "    df['mFSC-H'] = promH\n",
    "    sigmasq3 = np.std(df['FL3-A'].tolist())\n",
    "    prom3 = np.mean(df['FL3-A'].tolist())\n",
    "    fanofact =sigmasq3/prom3\n",
    "    df['cvFL3-A'] = fanofact\n",
    "    df['mFL3-A'] = prom3\n",
    "    \n",
    "    #Save the csv with the filter and statistics\n",
    "    df.to_csv(csv_correc  +files_csv[j][0:3]+'.csv',index=False)\n",
    "    print('File ' + str(j+1) + ' out of ' + str(len(files_csv)) + ' Done')    \n",
    "    stats_df.loc[j] = [files_csv[j][0:3], promH, sigmasqH, prom3, sigmasq3]"
   ]
  },
  {
   "cell_type": "code",
   "execution_count": null,
   "metadata": {
    "collapsed": false,
    "scrolled": true
   },
   "outputs": [],
   "source": [
    "#Statistics saved in statistics.csv\n",
    "stats_df = stats_df.sort_values('label')\n",
    "stats_df = stats_df.reset_index(drop=True)\n",
    "csv_stats_dir = './csv_data/Statistics_csv/'\n",
    "make_dir(csv_stats_dir)\n",
    "stats_df.to_csv(csv_stats_dir + 'statistics'+'.csv', index = False)"
   ]
  },
  {
   "cell_type": "code",
   "execution_count": null,
   "metadata": {
    "collapsed": false
   },
   "outputs": [],
   "source": [
    "csv_folder = './csv_data/Corrected_csv/'\n",
    "def merge_dfs(directory):\n",
    "    \n",
    "    files = filterFiles(directory, '.csv')\n",
    "    df = pd.read_csv(csv_folder + files[0])\n",
    "    \n",
    "    for i in files[1:]:\n",
    "        df1 = pd.read_csv(csv_folder + i)\n",
    "        df = df.append(df1)\n",
    "    \n",
    "    csv_dir_final = './csv_data/Merged/'\n",
    "    make_dir(csv_folder_final)\n",
    "    df.to_csv(csv_folder_final +'mergedData'+'.csv',index=False)\n",
    "#merge_dfs(csv_folder)"
   ]
  },
  {
   "cell_type": "code",
   "execution_count": null,
   "metadata": {
    "collapsed": true
   },
   "outputs": [],
   "source": []
  }
 ],
 "metadata": {
  "anaconda-cloud": {},
  "kernelspec": {
   "display_name": "Python [Root]",
   "language": "python",
   "name": "Python [Root]"
  },
  "language_info": {
   "codemirror_mode": {
    "name": "ipython",
    "version": 3
   },
   "file_extension": ".py",
   "mimetype": "text/x-python",
   "name": "python",
   "nbconvert_exporter": "python",
   "pygments_lexer": "ipython3",
   "version": "3.5.2"
  },
  "nbpresent": {
   "slides": {},
   "themes": {
    "default": "19df1795-3f24-4aeb-a040-75472f441ea2",
    "theme": {
     "19df1795-3f24-4aeb-a040-75472f441ea2": {
      "id": "19df1795-3f24-4aeb-a040-75472f441ea2",
      "palette": {
       "19cc588f-0593-49c9-9f4b-e4d7cc113b1c": {
        "id": "19cc588f-0593-49c9-9f4b-e4d7cc113b1c",
        "rgb": [
         252,
         252,
         252
        ]
       },
       "31af15d2-7e15-44c5-ab5e-e04b16a89eff": {
        "id": "31af15d2-7e15-44c5-ab5e-e04b16a89eff",
        "rgb": [
         68,
         68,
         68
        ]
       },
       "50f92c45-a630-455b-aec3-788680ec7410": {
        "id": "50f92c45-a630-455b-aec3-788680ec7410",
        "rgb": [
         155,
         177,
         192
        ]
       },
       "c5cc3653-2ee1-402a-aba2-7caae1da4f6c": {
        "id": "c5cc3653-2ee1-402a-aba2-7caae1da4f6c",
        "rgb": [
         43,
         126,
         184
        ]
       },
       "efa7f048-9acb-414c-8b04-a26811511a21": {
        "id": "efa7f048-9acb-414c-8b04-a26811511a21",
        "rgb": [
         25.118061674008803,
         73.60176211453744,
         107.4819383259912
        ]
       }
      },
      "rules": {
       "blockquote": {
        "color": "50f92c45-a630-455b-aec3-788680ec7410"
       },
       "code": {
        "font-family": "Anonymous Pro"
       },
       "h1": {
        "color": "c5cc3653-2ee1-402a-aba2-7caae1da4f6c",
        "font-family": "Lato",
        "font-size": 8
       },
       "h2": {
        "color": "c5cc3653-2ee1-402a-aba2-7caae1da4f6c",
        "font-family": "Lato",
        "font-size": 6
       },
       "h3": {
        "color": "50f92c45-a630-455b-aec3-788680ec7410",
        "font-family": "Lato",
        "font-size": 5.5
       },
       "h4": {
        "color": "c5cc3653-2ee1-402a-aba2-7caae1da4f6c",
        "font-family": "Lato",
        "font-size": 5
       },
       "h5": {
        "font-family": "Lato"
       },
       "h6": {
        "font-family": "Lato"
       },
       "h7": {
        "font-family": "Lato"
       },
       "pre": {
        "font-family": "Anonymous Pro",
        "font-size": 4
       }
      },
      "text-base": {
       "font-family": "Merriweather",
       "font-size": 4
      }
     }
    }
   }
  }
 },
 "nbformat": 4,
 "nbformat_minor": 0
}
